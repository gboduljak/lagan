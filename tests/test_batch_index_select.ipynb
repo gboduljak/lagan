{
 "cells": [
  {
   "cell_type": "code",
   "execution_count": 1,
   "metadata": {},
   "outputs": [],
   "source": [
    "import torch"
   ]
  },
  {
   "cell_type": "code",
   "execution_count": 2,
   "metadata": {},
   "outputs": [],
   "source": [
    "from batch_index_select import *"
   ]
  },
  {
   "cell_type": "markdown",
   "metadata": {},
   "source": [
    "### Quick usage test"
   ]
  },
  {
   "cell_type": "code",
   "execution_count": 3,
   "metadata": {},
   "outputs": [
    {
     "data": {
      "text/plain": [
       "torch.Size([2, 3, 4])"
      ]
     },
     "execution_count": 3,
     "metadata": {},
     "output_type": "execute_result"
    }
   ],
   "source": [
    "x = torch.tensor([\n",
    "    [\n",
    "        [1, 2, 1, 1],\n",
    "        [4, 5, 1, 1],\n",
    "        [7, 8, 1, 1]\n",
    "    ],\n",
    "    [\n",
    "        [10, 11, 0, 0],\n",
    "        [13, 14, 0, 0],\n",
    "        [16, 17, 0, 0]\n",
    "    ]\n",
    "])\n",
    "x.shape"
   ]
  },
  {
   "cell_type": "code",
   "execution_count": 4,
   "metadata": {},
   "outputs": [
    {
     "data": {
      "text/plain": [
       "torch.Size([2, 2])"
      ]
     },
     "execution_count": 4,
     "metadata": {},
     "output_type": "execute_result"
    }
   ],
   "source": [
    "idx = torch.tensor([\n",
    "    [0, 2],\n",
    "    [1, 2]\n",
    "])\n",
    "idx.shape"
   ]
  },
  {
   "cell_type": "code",
   "execution_count": 5,
   "metadata": {},
   "outputs": [
    {
     "data": {
      "text/plain": [
       "tensor([[[ 1,  2,  1,  1],\n",
       "         [ 7,  8,  1,  1]],\n",
       "\n",
       "        [[13, 14,  0,  0],\n",
       "         [16, 17,  0,  0]]])"
      ]
     },
     "execution_count": 5,
     "metadata": {},
     "output_type": "execute_result"
    }
   ],
   "source": [
    "batch_index_select(\n",
    "    x=x,\n",
    "    idx=idx\n",
    ")"
   ]
  },
  {
   "cell_type": "markdown",
   "metadata": {},
   "source": [
    "### Randomized tests"
   ]
  },
  {
   "cell_type": "code",
   "execution_count": 6,
   "metadata": {},
   "outputs": [],
   "source": [
    "batch_size = 1\n",
    "patch_embedding_dim = 256\n",
    "num_patches_per_layer = 256\n",
    "num_patches_to_select = 64"
   ]
  },
  {
   "cell_type": "code",
   "execution_count": 7,
   "metadata": {},
   "outputs": [
    {
     "data": {
      "text/plain": [
       "tensor([[[-0.4127,  0.0604,  0.3482,  ...,  0.9609, -0.5695,  1.8515],\n",
       "         [-1.3135, -1.1062,  0.8621,  ..., -0.7530,  0.0483, -0.1770],\n",
       "         [ 0.3445,  1.1182, -0.2598,  ...,  0.4021,  0.4755,  1.3950],\n",
       "         ...,\n",
       "         [ 0.3185, -0.9757, -0.8706,  ...,  1.4769,  1.5047, -0.3960],\n",
       "         [ 0.3208, -1.3161, -1.3988,  ...,  0.4501, -0.8291,  0.7720],\n",
       "         [-0.4082, -0.7709,  0.4343,  ..., -0.3795, -0.2892,  1.4858]]])"
      ]
     },
     "execution_count": 7,
     "metadata": {},
     "output_type": "execute_result"
    }
   ],
   "source": [
    "x = torch.randn((batch_size, num_patches_per_layer, patch_embedding_dim))\n",
    "x"
   ]
  },
  {
   "cell_type": "code",
   "execution_count": 8,
   "metadata": {},
   "outputs": [],
   "source": [
    "iters = 1000\n",
    "\n",
    "for _ in range(iters):\n",
    "  select_idx = torch.vstack(\n",
    "      [\n",
    "          torch.multinomial(torch.ones(num_patches_per_layer),\n",
    "                            num_patches_to_select)\n",
    "          for _ in range(1)\n",
    "      ]\n",
    "  )\n",
    "  batch_index_selection = batch_index_select(x, select_idx)\n",
    "\n",
    "  for batch_idx in range(batch_size):\n",
    "    batch_selected_patches = batch_index_selection[batch_idx]\n",
    "    expected_selected_patches = torch.index_select(\n",
    "        input=x[batch_idx],\n",
    "        index=select_idx[batch_idx],\n",
    "        dim=0\n",
    "    )\n",
    "    assert torch.equal(batch_selected_patches, expected_selected_patches)"
   ]
  }
 ],
 "metadata": {
  "kernelspec": {
   "display_name": "UGATIT-pytorch-J5qPllXS",
   "language": "python",
   "name": "python3"
  },
  "language_info": {
   "codemirror_mode": {
    "name": "ipython",
    "version": 3
   },
   "file_extension": ".py",
   "mimetype": "text/x-python",
   "name": "python",
   "nbconvert_exporter": "python",
   "pygments_lexer": "ipython3",
   "version": "3.10.11"
  },
  "orig_nbformat": 4
 },
 "nbformat": 4,
 "nbformat_minor": 2
}
